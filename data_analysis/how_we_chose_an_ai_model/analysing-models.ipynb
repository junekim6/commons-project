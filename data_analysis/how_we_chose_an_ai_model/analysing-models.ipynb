{
 "cells": [
  {
   "cell_type": "markdown",
   "metadata": {},
   "source": [
    "# Analysing models\n",
    "\n",
    "This notebook analyses the result of the model testing performed in `testing-models.ipynb`. The models are evaluated based on the following metrics:\n",
    "- Accuracy - here we call it the error rate\n",
    "- Precision\n",
    "- Recall"
   ]
  },
  {
   "cell_type": "markdown",
   "metadata": {},
   "source": [
    "## Step 0: Setup"
   ]
  },
  {
   "cell_type": "code",
   "execution_count": 155,
   "metadata": {},
   "outputs": [
    {
     "name": "stdout",
     "output_type": "stream",
     "text": [
      "The rpy2.ipython extension is already loaded. To reload it, use:\n",
      "  %reload_ext rpy2.ipython\n",
      "The autoreload extension is already loaded. To reload it, use:\n",
      "  %reload_ext autoreload\n"
     ]
    }
   ],
   "source": [
    "%load_ext rpy2.ipython\n",
    "%load_ext autoreload\n",
    "%autoreload 2\n",
    "\n",
    "%matplotlib inline  \n",
    "from matplotlib import rcParams\n",
    "rcParams['figure.figsize'] = (16, 100)\n",
    "\n",
    "import warnings\n",
    "from rpy2.rinterface import RRuntimeWarning\n",
    "warnings.filterwarnings(\"ignore\") # Ignore all warnings\n",
    "# warnings.filterwarnings(\"ignore\", category=RRuntimeWarning) # Show some warnings\n",
    "\n",
    "import pandas as pd\n",
    "import numpy as np\n",
    "import matplotlib.pyplot as plt\n",
    "from IPython.display import display, HTML"
   ]
  },
  {
   "cell_type": "code",
   "execution_count": 156,
   "metadata": {},
   "outputs": [
    {
     "data": {
      "application/javascript": "// Disable auto-scrolling\nIPython.OutputArea.prototype._should_scroll = function(lines) {\n    return false;\n}\n",
      "text/plain": [
       "<IPython.core.display.Javascript object>"
      ]
     },
     "metadata": {},
     "output_type": "display_data"
    }
   ],
   "source": [
    "%%javascript\n",
    "// Disable auto-scrolling\n",
    "IPython.OutputArea.prototype._should_scroll = function(lines) {\n",
    "    return false;\n",
    "}"
   ]
  },
  {
   "cell_type": "markdown",
   "metadata": {},
   "source": [
    "Set up R in jupyter notebook and import the tidyverse package so we can plot the data using ggplot2."
   ]
  },
  {
   "cell_type": "code",
   "execution_count": 157,
   "metadata": {},
   "outputs": [],
   "source": [
    "%%R\n",
    "\n",
    "require('tidyverse')"
   ]
  },
  {
   "cell_type": "markdown",
   "metadata": {},
   "source": [
    "And load in the data"
   ]
  },
  {
   "cell_type": "code",
   "execution_count": 158,
   "metadata": {},
   "outputs": [],
   "source": [
    "df = pd.read_csv('model_outputs.csv')"
   ]
  },
  {
   "cell_type": "markdown",
   "metadata": {},
   "source": [
    "## Step 1: Clean and reshape the data for analysis"
   ]
  },
  {
   "cell_type": "markdown",
   "metadata": {},
   "source": [
    "Before starting the analysis, I want to figure out how many of the rows have substantial comments in them. \n",
    "\n",
    "I define substantial as comments over 20 characters. For those rows, I set set the column `substantial_text` to `True`. If the `full_text` column is `None` or contains less than 20 characters, `substantial_text` is set to `False`."
   ]
  },
  {
   "cell_type": "code",
   "execution_count": 159,
   "metadata": {},
   "outputs": [],
   "source": [
    "df['substantial_text'] = df['full_text'].apply(lambda x: False if pd.isnull(x) or len(x) < 20 else True)"
   ]
  },
  {
   "cell_type": "markdown",
   "metadata": {},
   "source": [
    "Drop of all the columns in df starting with ai_response"
   ]
  },
  {
   "cell_type": "code",
   "execution_count": 160,
   "metadata": {},
   "outputs": [],
   "source": [
    "df = df.drop(columns=[col for col in df.columns if col.startswith('ai_response')])"
   ]
  },
  {
   "cell_type": "markdown",
   "metadata": {},
   "source": [
    "### Reshape data from wide to long"
   ]
  },
  {
   "cell_type": "markdown",
   "metadata": {},
   "source": [
    "Define a function to extract the model name from the column names"
   ]
  },
  {
   "cell_type": "code",
   "execution_count": 161,
   "metadata": {},
   "outputs": [],
   "source": [
    "def extract_model_name(column_name):\n",
    "    parts = column_name.split('_')\n",
    "    if parts[0] == 'verification':\n",
    "        # Join parts excluding the 'verification' and the category\n",
    "        return '_'.join(parts[2:])\n",
    "    else:\n",
    "        # Join parts excluding the category\n",
    "        return '_'.join(parts[1:])"
   ]
  },
  {
   "cell_type": "markdown",
   "metadata": {},
   "source": [
    "Define a function to extract the category name from the column names"
   ]
  },
  {
   "cell_type": "code",
   "execution_count": 162,
   "metadata": {},
   "outputs": [],
   "source": [
    "def extract_category_name(column_name):\n",
    "    return column_name.split('_')[0]"
   ]
  },
  {
   "cell_type": "markdown",
   "metadata": {},
   "source": [
    "Melt the DataFrame for model predictions"
   ]
  },
  {
   "cell_type": "code",
   "execution_count": 163,
   "metadata": {},
   "outputs": [],
   "source": [
    "df_melted = df.melt(id_vars=['agency_id', 'docket_id', 'comment_id', 'full_text', 'substantial_text'],\n",
    "                     var_name='combined', value_name='value')"
   ]
  },
  {
   "cell_type": "markdown",
   "metadata": {},
   "source": [
    "Extract model and category from the combined column"
   ]
  },
  {
   "cell_type": "code",
   "execution_count": 164,
   "metadata": {},
   "outputs": [],
   "source": [
    "df_melted['model'] = df_melted['combined'].apply(extract_model_name)\n",
    "df_melted['category'] = df_melted['combined'].apply(extract_category_name)"
   ]
  },
  {
   "cell_type": "markdown",
   "metadata": {},
   "source": [
    "Filter out the verification rows into a separate DataFrame and rename columns in verification DataFrame for clarity and later merge"
   ]
  },
  {
   "cell_type": "code",
   "execution_count": 165,
   "metadata": {},
   "outputs": [],
   "source": [
    "df_verification = df_melted[df_melted['category'] == 'verification'].copy()\n",
    "df_verification.rename(columns={'value': 'verification_value'}, inplace=True)"
   ]
  },
  {
   "cell_type": "markdown",
   "metadata": {},
   "source": [
    "Drop the verification rows from the melted DataFrame"
   ]
  },
  {
   "cell_type": "code",
   "execution_count": 166,
   "metadata": {},
   "outputs": [],
   "source": [
    "df_melted = df_melted[df_melted['category'] != 'verification']"
   ]
  },
  {
   "cell_type": "markdown",
   "metadata": {},
   "source": [
    "Merge the verification DataFrame back into the melted DataFrame"
   ]
  },
  {
   "cell_type": "code",
   "execution_count": 167,
   "metadata": {},
   "outputs": [],
   "source": [
    "df_final = pd.merge(df_melted, df_verification,\n",
    "                    on=['agency_id', 'docket_id', 'comment_id', 'full_text', 'substantial_text', 'model'],\n",
    "                    how='left')"
   ]
  },
  {
   "cell_type": "code",
   "execution_count": 168,
   "metadata": {},
   "outputs": [],
   "source": [
    "# drop the columns combined_x, combined_y, \tcategory_x, category_y\n",
    "df_final = df_final.drop(columns=['combined_x', 'combined_y', 'category_x', 'category_y'])"
   ]
  },
  {
   "cell_type": "markdown",
   "metadata": {},
   "source": [
    "Split the model name into model and category by the last '_'"
   ]
  },
  {
   "cell_type": "markdown",
   "metadata": {},
   "source": [
    "and the model name is the part before the last '_'"
   ]
  },
  {
   "cell_type": "code",
   "execution_count": 169,
   "metadata": {},
   "outputs": [],
   "source": [
    "df_final['category'] = df_final['model'].apply(lambda x: x.rsplit('_', 1)[0])\n",
    "df_final['model'] = df_final['model'].apply(lambda x: x.rsplit('_',2)[-1])"
   ]
  },
  {
   "cell_type": "code",
   "execution_count": 170,
   "metadata": {},
   "outputs": [],
   "source": [
    "# drop rows where model is equal to category\n",
    "df_final = df_final[df_final['model'] != df_final['category']]\n",
    "\n",
    "# and where model is name or region\n",
    "df_final = df_final[~df_final['model'].isin(['name', 'region'])]"
   ]
  },
  {
   "cell_type": "code",
   "execution_count": 171,
   "metadata": {},
   "outputs": [
    {
     "data": {
      "text/html": [
       "<div>\n",
       "<style scoped>\n",
       "    .dataframe tbody tr th:only-of-type {\n",
       "        vertical-align: middle;\n",
       "    }\n",
       "\n",
       "    .dataframe tbody tr th {\n",
       "        vertical-align: top;\n",
       "    }\n",
       "\n",
       "    .dataframe thead th {\n",
       "        text-align: right;\n",
       "    }\n",
       "</style>\n",
       "<table border=\"1\" class=\"dataframe\">\n",
       "  <thead>\n",
       "    <tr style=\"text-align: right;\">\n",
       "      <th></th>\n",
       "      <th>agency_id</th>\n",
       "      <th>docket_id</th>\n",
       "      <th>comment_id</th>\n",
       "      <th>full_text</th>\n",
       "      <th>substantial_text</th>\n",
       "      <th>value</th>\n",
       "      <th>model</th>\n",
       "      <th>verification_value</th>\n",
       "      <th>category</th>\n",
       "    </tr>\n",
       "  </thead>\n",
       "  <tbody>\n",
       "    <tr>\n",
       "      <th>0</th>\n",
       "      <td>ATF</td>\n",
       "      <td>ATF-2023-0002</td>\n",
       "      <td>ATF-2023-0002-369205</td>\n",
       "      <td>Gun Owners of America has informed me that ATF...</td>\n",
       "      <td>True</td>\n",
       "      <td>The commenter expresses concerns about the ATF...</td>\n",
       "      <td>claude-3-haiku-20240307</td>\n",
       "      <td>True positive</td>\n",
       "      <td>summary</td>\n",
       "    </tr>\n",
       "    <tr>\n",
       "      <th>1</th>\n",
       "      <td>FMCSA</td>\n",
       "      <td>FMCSA-2023-0236</td>\n",
       "      <td>FMCSA-2023-0236-0030</td>\n",
       "      <td>The Commercial Vehicle Training Association  (...</td>\n",
       "      <td>True</td>\n",
       "      <td>The Commercial Vehicle Training Association (C...</td>\n",
       "      <td>claude-3-haiku-20240307</td>\n",
       "      <td>True positive</td>\n",
       "      <td>summary</td>\n",
       "    </tr>\n",
       "    <tr>\n",
       "      <th>2</th>\n",
       "      <td>FWS</td>\n",
       "      <td>FWS-R1-ES-2022-0074</td>\n",
       "      <td>FWS-R1-ES-2022-0074-0539</td>\n",
       "      <td>I am writing as someone who feels particularly...</td>\n",
       "      <td>True</td>\n",
       "      <td>The commenter expresses their concern for the ...</td>\n",
       "      <td>claude-3-haiku-20240307</td>\n",
       "      <td>True positive</td>\n",
       "      <td>summary</td>\n",
       "    </tr>\n",
       "    <tr>\n",
       "      <th>3</th>\n",
       "      <td>IRS</td>\n",
       "      <td>IRS-2023-0066</td>\n",
       "      <td>IRS-2023-0066-6646</td>\n",
       "      <td>Thank you for issuing this strong guidance tha...</td>\n",
       "      <td>True</td>\n",
       "      <td>The commenter expresses their support for the ...</td>\n",
       "      <td>claude-3-haiku-20240307</td>\n",
       "      <td>True positive</td>\n",
       "      <td>summary</td>\n",
       "    </tr>\n",
       "    <tr>\n",
       "      <th>4</th>\n",
       "      <td>APHIS</td>\n",
       "      <td>APHIS-2015-0093</td>\n",
       "      <td>APHIS-2015-0093-7823</td>\n",
       "      <td>As someone who cares deeply about deer and hum...</td>\n",
       "      <td>True</td>\n",
       "      <td>The commenter urges Wildlife Services to revis...</td>\n",
       "      <td>claude-3-haiku-20240307</td>\n",
       "      <td>True positive</td>\n",
       "      <td>summary</td>\n",
       "    </tr>\n",
       "    <tr>\n",
       "      <th>...</th>\n",
       "      <td>...</td>\n",
       "      <td>...</td>\n",
       "      <td>...</td>\n",
       "      <td>...</td>\n",
       "      <td>...</td>\n",
       "      <td>...</td>\n",
       "      <td>...</td>\n",
       "      <td>...</td>\n",
       "      <td>...</td>\n",
       "    </tr>\n",
       "    <tr>\n",
       "      <th>17395</th>\n",
       "      <td>IRS</td>\n",
       "      <td>IRS-2023-0066</td>\n",
       "      <td>IRS-2023-0066-21379</td>\n",
       "      <td>Thank you for your leadership in implementing ...</td>\n",
       "      <td>True</td>\n",
       "      <td>NaN</td>\n",
       "      <td>gpt-4-1106-preview</td>\n",
       "      <td>True negative</td>\n",
       "      <td>zip</td>\n",
       "    </tr>\n",
       "    <tr>\n",
       "      <th>17396</th>\n",
       "      <td>NHTSA</td>\n",
       "      <td>NHTSA-2023-0022</td>\n",
       "      <td>NHTSA-2023-0022-47344</td>\n",
       "      <td>Federal Register CAFƒ Standards Comments,  We ...</td>\n",
       "      <td>True</td>\n",
       "      <td>98225</td>\n",
       "      <td>gpt-4-1106-preview</td>\n",
       "      <td>True positive</td>\n",
       "      <td>zip</td>\n",
       "    </tr>\n",
       "    <tr>\n",
       "      <th>17397</th>\n",
       "      <td>ATF</td>\n",
       "      <td>ATF-2023-0002</td>\n",
       "      <td>ATF-2023-0002-271677</td>\n",
       "      <td>Dear Attorney General Garland,  I strongly sup...</td>\n",
       "      <td>True</td>\n",
       "      <td>7044</td>\n",
       "      <td>gpt-4-1106-preview</td>\n",
       "      <td>True positive</td>\n",
       "      <td>zip</td>\n",
       "    </tr>\n",
       "    <tr>\n",
       "      <th>17398</th>\n",
       "      <td>BLM</td>\n",
       "      <td>BLM-2023-0006</td>\n",
       "      <td>BLM-2023-0006-75719</td>\n",
       "      <td>Dear Bureau of Land Management,  I am opposed ...</td>\n",
       "      <td>True</td>\n",
       "      <td>NaN</td>\n",
       "      <td>gpt-4-1106-preview</td>\n",
       "      <td>True negative</td>\n",
       "      <td>zip</td>\n",
       "    </tr>\n",
       "    <tr>\n",
       "      <th>17399</th>\n",
       "      <td>FWS</td>\n",
       "      <td>FWS-HQ-NWRS-2022-0106</td>\n",
       "      <td>FWS-HQ-NWRS-2022-0106-28277</td>\n",
       "      <td>As a New York resident, I am writing to expres...</td>\n",
       "      <td>True</td>\n",
       "      <td>98685</td>\n",
       "      <td>gpt-4-1106-preview</td>\n",
       "      <td>True positive</td>\n",
       "      <td>zip</td>\n",
       "    </tr>\n",
       "  </tbody>\n",
       "</table>\n",
       "<p>15600 rows × 9 columns</p>\n",
       "</div>"
      ],
      "text/plain": [
       "      agency_id              docket_id                   comment_id  \\\n",
       "0           ATF          ATF-2023-0002         ATF-2023-0002-369205   \n",
       "1         FMCSA        FMCSA-2023-0236         FMCSA-2023-0236-0030   \n",
       "2           FWS    FWS-R1-ES-2022-0074     FWS-R1-ES-2022-0074-0539   \n",
       "3           IRS          IRS-2023-0066           IRS-2023-0066-6646   \n",
       "4         APHIS        APHIS-2015-0093         APHIS-2015-0093-7823   \n",
       "...         ...                    ...                          ...   \n",
       "17395       IRS          IRS-2023-0066          IRS-2023-0066-21379   \n",
       "17396     NHTSA        NHTSA-2023-0022        NHTSA-2023-0022-47344   \n",
       "17397       ATF          ATF-2023-0002         ATF-2023-0002-271677   \n",
       "17398       BLM          BLM-2023-0006          BLM-2023-0006-75719   \n",
       "17399       FWS  FWS-HQ-NWRS-2022-0106  FWS-HQ-NWRS-2022-0106-28277   \n",
       "\n",
       "                                               full_text  substantial_text  \\\n",
       "0      Gun Owners of America has informed me that ATF...              True   \n",
       "1      The Commercial Vehicle Training Association  (...              True   \n",
       "2      I am writing as someone who feels particularly...              True   \n",
       "3      Thank you for issuing this strong guidance tha...              True   \n",
       "4      As someone who cares deeply about deer and hum...              True   \n",
       "...                                                  ...               ...   \n",
       "17395  Thank you for your leadership in implementing ...              True   \n",
       "17396  Federal Register CAFƒ Standards Comments,  We ...              True   \n",
       "17397  Dear Attorney General Garland,  I strongly sup...              True   \n",
       "17398  Dear Bureau of Land Management,  I am opposed ...              True   \n",
       "17399  As a New York resident, I am writing to expres...              True   \n",
       "\n",
       "                                                   value  \\\n",
       "0      The commenter expresses concerns about the ATF...   \n",
       "1      The Commercial Vehicle Training Association (C...   \n",
       "2      The commenter expresses their concern for the ...   \n",
       "3      The commenter expresses their support for the ...   \n",
       "4      The commenter urges Wildlife Services to revis...   \n",
       "...                                                  ...   \n",
       "17395                                                NaN   \n",
       "17396                                              98225   \n",
       "17397                                               7044   \n",
       "17398                                                NaN   \n",
       "17399                                              98685   \n",
       "\n",
       "                         model verification_value category  \n",
       "0      claude-3-haiku-20240307      True positive  summary  \n",
       "1      claude-3-haiku-20240307      True positive  summary  \n",
       "2      claude-3-haiku-20240307      True positive  summary  \n",
       "3      claude-3-haiku-20240307      True positive  summary  \n",
       "4      claude-3-haiku-20240307      True positive  summary  \n",
       "...                        ...                ...      ...  \n",
       "17395       gpt-4-1106-preview      True negative      zip  \n",
       "17396       gpt-4-1106-preview      True positive      zip  \n",
       "17397       gpt-4-1106-preview      True positive      zip  \n",
       "17398       gpt-4-1106-preview      True negative      zip  \n",
       "17399       gpt-4-1106-preview      True positive      zip  \n",
       "\n",
       "[15600 rows x 9 columns]"
      ]
     },
     "execution_count": 171,
     "metadata": {},
     "output_type": "execute_result"
    }
   ],
   "source": [
    "df_final"
   ]
  },
  {
   "cell_type": "markdown",
   "metadata": {},
   "source": [
    "## Step 2: Analyze the data\n",
    "\n",
    "Now that the data is in the right shape, I can start asking questions some essential questions of the data:\n",
    "- What are the share of `False negative` and `False positive` predictions for each model?\n",
    "- Does `False negative` and `False positive` predictions vary by category?\n",
    "- Are `False negative` often the result of a lack of substantial text?"
   ]
  },
  {
   "cell_type": "markdown",
   "metadata": {},
   "source": [
    "### 2.1 Calculate error rates"
   ]
  },
  {
   "cell_type": "code",
   "execution_count": 172,
   "metadata": {},
   "outputs": [
    {
     "data": {
      "text/html": [
       "<div>\n",
       "<style scoped>\n",
       "    .dataframe tbody tr th:only-of-type {\n",
       "        vertical-align: middle;\n",
       "    }\n",
       "\n",
       "    .dataframe tbody tr th {\n",
       "        vertical-align: top;\n",
       "    }\n",
       "\n",
       "    .dataframe thead th {\n",
       "        text-align: right;\n",
       "    }\n",
       "</style>\n",
       "<table border=\"1\" class=\"dataframe\">\n",
       "  <thead>\n",
       "    <tr style=\"text-align: right;\">\n",
       "      <th></th>\n",
       "      <th>agency_id</th>\n",
       "      <th>docket_id</th>\n",
       "      <th>comment_id</th>\n",
       "      <th>full_text</th>\n",
       "      <th>substantial_text</th>\n",
       "      <th>value</th>\n",
       "      <th>model</th>\n",
       "      <th>verification_value</th>\n",
       "      <th>category</th>\n",
       "    </tr>\n",
       "  </thead>\n",
       "  <tbody>\n",
       "    <tr>\n",
       "      <th>0</th>\n",
       "      <td>ATF</td>\n",
       "      <td>ATF-2023-0002</td>\n",
       "      <td>ATF-2023-0002-369205</td>\n",
       "      <td>Gun Owners of America has informed me that ATF...</td>\n",
       "      <td>True</td>\n",
       "      <td>The commenter expresses concerns about the ATF...</td>\n",
       "      <td>claude-3-haiku-20240307</td>\n",
       "      <td>True positive</td>\n",
       "      <td>summary</td>\n",
       "    </tr>\n",
       "    <tr>\n",
       "      <th>1</th>\n",
       "      <td>FMCSA</td>\n",
       "      <td>FMCSA-2023-0236</td>\n",
       "      <td>FMCSA-2023-0236-0030</td>\n",
       "      <td>The Commercial Vehicle Training Association  (...</td>\n",
       "      <td>True</td>\n",
       "      <td>The Commercial Vehicle Training Association (C...</td>\n",
       "      <td>claude-3-haiku-20240307</td>\n",
       "      <td>True positive</td>\n",
       "      <td>summary</td>\n",
       "    </tr>\n",
       "    <tr>\n",
       "      <th>2</th>\n",
       "      <td>FWS</td>\n",
       "      <td>FWS-R1-ES-2022-0074</td>\n",
       "      <td>FWS-R1-ES-2022-0074-0539</td>\n",
       "      <td>I am writing as someone who feels particularly...</td>\n",
       "      <td>True</td>\n",
       "      <td>The commenter expresses their concern for the ...</td>\n",
       "      <td>claude-3-haiku-20240307</td>\n",
       "      <td>True positive</td>\n",
       "      <td>summary</td>\n",
       "    </tr>\n",
       "    <tr>\n",
       "      <th>3</th>\n",
       "      <td>IRS</td>\n",
       "      <td>IRS-2023-0066</td>\n",
       "      <td>IRS-2023-0066-6646</td>\n",
       "      <td>Thank you for issuing this strong guidance tha...</td>\n",
       "      <td>True</td>\n",
       "      <td>The commenter expresses their support for the ...</td>\n",
       "      <td>claude-3-haiku-20240307</td>\n",
       "      <td>True positive</td>\n",
       "      <td>summary</td>\n",
       "    </tr>\n",
       "    <tr>\n",
       "      <th>4</th>\n",
       "      <td>APHIS</td>\n",
       "      <td>APHIS-2015-0093</td>\n",
       "      <td>APHIS-2015-0093-7823</td>\n",
       "      <td>As someone who cares deeply about deer and hum...</td>\n",
       "      <td>True</td>\n",
       "      <td>The commenter urges Wildlife Services to revis...</td>\n",
       "      <td>claude-3-haiku-20240307</td>\n",
       "      <td>True positive</td>\n",
       "      <td>summary</td>\n",
       "    </tr>\n",
       "  </tbody>\n",
       "</table>\n",
       "</div>"
      ],
      "text/plain": [
       "  agency_id            docket_id                comment_id  \\\n",
       "0       ATF        ATF-2023-0002      ATF-2023-0002-369205   \n",
       "1     FMCSA      FMCSA-2023-0236      FMCSA-2023-0236-0030   \n",
       "2       FWS  FWS-R1-ES-2022-0074  FWS-R1-ES-2022-0074-0539   \n",
       "3       IRS        IRS-2023-0066        IRS-2023-0066-6646   \n",
       "4     APHIS      APHIS-2015-0093      APHIS-2015-0093-7823   \n",
       "\n",
       "                                           full_text  substantial_text  \\\n",
       "0  Gun Owners of America has informed me that ATF...              True   \n",
       "1  The Commercial Vehicle Training Association  (...              True   \n",
       "2  I am writing as someone who feels particularly...              True   \n",
       "3  Thank you for issuing this strong guidance tha...              True   \n",
       "4  As someone who cares deeply about deer and hum...              True   \n",
       "\n",
       "                                               value                    model  \\\n",
       "0  The commenter expresses concerns about the ATF...  claude-3-haiku-20240307   \n",
       "1  The Commercial Vehicle Training Association (C...  claude-3-haiku-20240307   \n",
       "2  The commenter expresses their concern for the ...  claude-3-haiku-20240307   \n",
       "3  The commenter expresses their support for the ...  claude-3-haiku-20240307   \n",
       "4  The commenter urges Wildlife Services to revis...  claude-3-haiku-20240307   \n",
       "\n",
       "  verification_value category  \n",
       "0      True positive  summary  \n",
       "1      True positive  summary  \n",
       "2      True positive  summary  \n",
       "3      True positive  summary  \n",
       "4      True positive  summary  "
      ]
     },
     "execution_count": 172,
     "metadata": {},
     "output_type": "execute_result"
    }
   ],
   "source": [
    "df_final.head()"
   ]
  },
  {
   "cell_type": "code",
   "execution_count": 173,
   "metadata": {},
   "outputs": [],
   "source": [
    "verification_counts = df_final.groupby(['model', 'category', 'verification_value'])['comment_id'].count().reset_index(name='verification_count')\n",
    "total_counts = df_final.groupby(['model', 'category'])['comment_id'].count().reset_index(name='total_count')\n",
    "error_rate_grouped = pd.merge(verification_counts, total_counts, on=['model', 'category'])\n",
    "error_rate_grouped['error_rate'] = error_rate_grouped['verification_count'] / error_rate_grouped['total_count'] * 100"
   ]
  },
  {
   "cell_type": "code",
   "execution_count": 174,
   "metadata": {},
   "outputs": [
    {
     "data": {
      "text/html": [
       "<div>\n",
       "<style scoped>\n",
       "    .dataframe tbody tr th:only-of-type {\n",
       "        vertical-align: middle;\n",
       "    }\n",
       "\n",
       "    .dataframe tbody tr th {\n",
       "        vertical-align: top;\n",
       "    }\n",
       "\n",
       "    .dataframe thead th {\n",
       "        text-align: right;\n",
       "    }\n",
       "</style>\n",
       "<table border=\"1\" class=\"dataframe\">\n",
       "  <thead>\n",
       "    <tr style=\"text-align: right;\">\n",
       "      <th></th>\n",
       "      <th>model</th>\n",
       "      <th>category</th>\n",
       "      <th>verification_value</th>\n",
       "      <th>verification_count</th>\n",
       "      <th>total_count</th>\n",
       "      <th>error_rate</th>\n",
       "    </tr>\n",
       "  </thead>\n",
       "  <tbody>\n",
       "    <tr>\n",
       "      <th>0</th>\n",
       "      <td>claude-3-haiku-20240307</td>\n",
       "      <td>address</td>\n",
       "      <td>False negative</td>\n",
       "      <td>1</td>\n",
       "      <td>200</td>\n",
       "      <td>0.5</td>\n",
       "    </tr>\n",
       "    <tr>\n",
       "      <th>1</th>\n",
       "      <td>claude-3-haiku-20240307</td>\n",
       "      <td>address</td>\n",
       "      <td>False positive</td>\n",
       "      <td>5</td>\n",
       "      <td>200</td>\n",
       "      <td>2.5</td>\n",
       "    </tr>\n",
       "    <tr>\n",
       "      <th>2</th>\n",
       "      <td>claude-3-haiku-20240307</td>\n",
       "      <td>address</td>\n",
       "      <td>True negative</td>\n",
       "      <td>174</td>\n",
       "      <td>200</td>\n",
       "      <td>87.0</td>\n",
       "    </tr>\n",
       "    <tr>\n",
       "      <th>3</th>\n",
       "      <td>claude-3-haiku-20240307</td>\n",
       "      <td>address</td>\n",
       "      <td>True positive</td>\n",
       "      <td>20</td>\n",
       "      <td>200</td>\n",
       "      <td>10.0</td>\n",
       "    </tr>\n",
       "    <tr>\n",
       "      <th>4</th>\n",
       "      <td>claude-3-haiku-20240307</td>\n",
       "      <td>city</td>\n",
       "      <td>False negative</td>\n",
       "      <td>2</td>\n",
       "      <td>200</td>\n",
       "      <td>1.0</td>\n",
       "    </tr>\n",
       "  </tbody>\n",
       "</table>\n",
       "</div>"
      ],
      "text/plain": [
       "                     model category verification_value  verification_count  \\\n",
       "0  claude-3-haiku-20240307  address     False negative                   1   \n",
       "1  claude-3-haiku-20240307  address     False positive                   5   \n",
       "2  claude-3-haiku-20240307  address      True negative                 174   \n",
       "3  claude-3-haiku-20240307  address      True positive                  20   \n",
       "4  claude-3-haiku-20240307     city     False negative                   2   \n",
       "\n",
       "   total_count  error_rate  \n",
       "0          200         0.5  \n",
       "1          200         2.5  \n",
       "2          200        87.0  \n",
       "3          200        10.0  \n",
       "4          200         1.0  "
      ]
     },
     "execution_count": 174,
     "metadata": {},
     "output_type": "execute_result"
    }
   ],
   "source": [
    "error_rate_grouped.head()"
   ]
  },
  {
   "cell_type": "markdown",
   "metadata": {},
   "source": [
    "### 2.2 Overall error rate for each model"
   ]
  },
  {
   "cell_type": "code",
   "execution_count": 175,
   "metadata": {},
   "outputs": [],
   "source": [
    "error_rate = error_rate_grouped.groupby(['model', 'verification_value'])['verification_count'].sum() / error_rate_grouped.groupby(['model'])['verification_count'].sum() * 100\n",
    "error_rate = error_rate.reset_index(name='error_rate')"
   ]
  },
  {
   "cell_type": "markdown",
   "metadata": {},
   "source": [
    "Check if all error rates add up to 100% for each model."
   ]
  },
  {
   "cell_type": "code",
   "execution_count": 176,
   "metadata": {},
   "outputs": [
    {
     "data": {
      "text/plain": [
       "model\n",
       "claude-3-haiku-20240307     100.0\n",
       "claude-3-opus-20240229      100.0\n",
       "claude-3-sonnet-20240229    100.0\n",
       "gemini-1.0-pro              100.0\n",
       "gpt-3.5-turbo-1106          100.0\n",
       "gpt-4-1106-preview          100.0\n",
       "Name: error_rate, dtype: float64"
      ]
     },
     "execution_count": 176,
     "metadata": {},
     "output_type": "execute_result"
    }
   ],
   "source": [
    "error_rate.groupby('model')['error_rate'].sum()"
   ]
  },
  {
   "cell_type": "code",
   "execution_count": 177,
   "metadata": {},
   "outputs": [],
   "source": [
    "false = error_rate[error_rate['verification_value'].isin(['False negative', 'False positive'])]\n",
    "false = false.groupby('model')['error_rate'].sum().reset_index()"
   ]
  },
  {
   "cell_type": "code",
   "execution_count": 178,
   "metadata": {},
   "outputs": [
    {
     "data": {
      "text/html": [
       "<div>\n",
       "<style scoped>\n",
       "    .dataframe tbody tr th:only-of-type {\n",
       "        vertical-align: middle;\n",
       "    }\n",
       "\n",
       "    .dataframe tbody tr th {\n",
       "        vertical-align: top;\n",
       "    }\n",
       "\n",
       "    .dataframe thead th {\n",
       "        text-align: right;\n",
       "    }\n",
       "</style>\n",
       "<table border=\"1\" class=\"dataframe\">\n",
       "  <thead>\n",
       "    <tr style=\"text-align: right;\">\n",
       "      <th></th>\n",
       "      <th>model</th>\n",
       "      <th>error_rate</th>\n",
       "    </tr>\n",
       "  </thead>\n",
       "  <tbody>\n",
       "    <tr>\n",
       "      <th>0</th>\n",
       "      <td>claude-3-haiku-20240307</td>\n",
       "      <td>6.194690</td>\n",
       "    </tr>\n",
       "    <tr>\n",
       "      <th>1</th>\n",
       "      <td>claude-3-opus-20240229</td>\n",
       "      <td>3.076923</td>\n",
       "    </tr>\n",
       "    <tr>\n",
       "      <th>2</th>\n",
       "      <td>claude-3-sonnet-20240229</td>\n",
       "      <td>3.230769</td>\n",
       "    </tr>\n",
       "    <tr>\n",
       "      <th>3</th>\n",
       "      <td>gemini-1.0-pro</td>\n",
       "      <td>5.194306</td>\n",
       "    </tr>\n",
       "    <tr>\n",
       "      <th>4</th>\n",
       "      <td>gpt-3.5-turbo-1106</td>\n",
       "      <td>14.769231</td>\n",
       "    </tr>\n",
       "    <tr>\n",
       "      <th>5</th>\n",
       "      <td>gpt-4-1106-preview</td>\n",
       "      <td>3.116583</td>\n",
       "    </tr>\n",
       "  </tbody>\n",
       "</table>\n",
       "</div>"
      ],
      "text/plain": [
       "                      model  error_rate\n",
       "0   claude-3-haiku-20240307    6.194690\n",
       "1    claude-3-opus-20240229    3.076923\n",
       "2  claude-3-sonnet-20240229    3.230769\n",
       "3            gemini-1.0-pro    5.194306\n",
       "4        gpt-3.5-turbo-1106   14.769231\n",
       "5        gpt-4-1106-preview    3.116583"
      ]
     },
     "execution_count": 178,
     "metadata": {},
     "output_type": "execute_result"
    }
   ],
   "source": [
    "false"
   ]
  },
  {
   "cell_type": "markdown",
   "metadata": {},
   "source": []
  },
  {
   "cell_type": "markdown",
   "metadata": {},
   "source": [
    "#### 2.2.1: Plot"
   ]
  },
  {
   "cell_type": "code",
   "execution_count": 179,
   "metadata": {},
   "outputs": [
    {
     "data": {
      "image/png": "[encoded data removed]"
     },
     "metadata": {},
     "output_type": "display_data"
    }
   ],
   "source": [
    "%%R -i false -w 800 -h 400\n",
    "\n",
    "plt <- ggplot(false, aes(y=reorder(model, error_rate), x=error_rate)) +\n",
    "    geom_col(stat='identity', position='dodge') +\n",
    "    labs(title='Error Rate by Model', x='Error Rate (percent)', y='Model') \n",
    "\n",
    "plt"
   ]
  },
  {
   "cell_type": "markdown",
   "metadata": {},
   "source": [
    "### 2.2.2: Precision and recall for each model\n",
    "\n",
    "\n",
    "https://en.wikipedia.org/wiki/Precision_and_recall\n",
    "\n",
    "Precision: how many of the retrieved items are relevant\n",
    "\n",
    "$$presicion = tp / (tp + fp)$$\n",
    "\n",
    "Recall: how many of the relevant items are retrieved\n",
    "\n",
    "$$recall = tp / (tp + fn)$$"
   ]
  },
  {
   "cell_type": "markdown",
   "metadata": {},
   "source": [
    "#### Precision"
   ]
  },
  {
   "cell_type": "code",
   "execution_count": 180,
   "metadata": {},
   "outputs": [],
   "source": [
    "precision = error_rate[error_rate['verification_value'].isin(['True positive', 'False positive'])]\n",
    "precision = precision.groupby(['model', 'verification_value'])['error_rate'].sum() / precision.groupby(['model'])['error_rate'].sum() * 100\n",
    "precision = precision.reset_index(name='precision')\n",
    "precision = precision[precision['verification_value'] == 'True positive']"
   ]
  },
  {
   "cell_type": "code",
   "execution_count": 181,
   "metadata": {},
   "outputs": [
    {
     "data": {
      "text/html": [
       "<div>\n",
       "<style scoped>\n",
       "    .dataframe tbody tr th:only-of-type {\n",
       "        vertical-align: middle;\n",
       "    }\n",
       "\n",
       "    .dataframe tbody tr th {\n",
       "        vertical-align: top;\n",
       "    }\n",
       "\n",
       "    .dataframe thead th {\n",
       "        text-align: right;\n",
       "    }\n",
       "</style>\n",
       "<table border=\"1\" class=\"dataframe\">\n",
       "  <thead>\n",
       "    <tr style=\"text-align: right;\">\n",
       "      <th></th>\n",
       "      <th>model</th>\n",
       "      <th>verification_value</th>\n",
       "      <th>precision</th>\n",
       "    </tr>\n",
       "  </thead>\n",
       "  <tbody>\n",
       "    <tr>\n",
       "      <th>1</th>\n",
       "      <td>claude-3-haiku-20240307</td>\n",
       "      <td>True positive</td>\n",
       "      <td>88.217968</td>\n",
       "    </tr>\n",
       "    <tr>\n",
       "      <th>3</th>\n",
       "      <td>claude-3-opus-20240229</td>\n",
       "      <td>True positive</td>\n",
       "      <td>97.882736</td>\n",
       "    </tr>\n",
       "    <tr>\n",
       "      <th>5</th>\n",
       "      <td>claude-3-sonnet-20240229</td>\n",
       "      <td>True positive</td>\n",
       "      <td>93.975904</td>\n",
       "    </tr>\n",
       "    <tr>\n",
       "      <th>7</th>\n",
       "      <td>gemini-1.0-pro</td>\n",
       "      <td>True positive</td>\n",
       "      <td>98.351648</td>\n",
       "    </tr>\n",
       "    <tr>\n",
       "      <th>9</th>\n",
       "      <td>gpt-3.5-turbo-1106</td>\n",
       "      <td>True positive</td>\n",
       "      <td>82.325581</td>\n",
       "    </tr>\n",
       "    <tr>\n",
       "      <th>11</th>\n",
       "      <td>gpt-4-1106-preview</td>\n",
       "      <td>True positive</td>\n",
       "      <td>96.960000</td>\n",
       "    </tr>\n",
       "  </tbody>\n",
       "</table>\n",
       "</div>"
      ],
      "text/plain": [
       "                       model verification_value  precision\n",
       "1    claude-3-haiku-20240307      True positive  88.217968\n",
       "3     claude-3-opus-20240229      True positive  97.882736\n",
       "5   claude-3-sonnet-20240229      True positive  93.975904\n",
       "7             gemini-1.0-pro      True positive  98.351648\n",
       "9         gpt-3.5-turbo-1106      True positive  82.325581\n",
       "11        gpt-4-1106-preview      True positive  96.960000"
      ]
     },
     "execution_count": 181,
     "metadata": {},
     "output_type": "execute_result"
    }
   ],
   "source": [
    "precision"
   ]
  },
  {
   "cell_type": "markdown",
   "metadata": {},
   "source": [
    "#### Recall"
   ]
  },
  {
   "cell_type": "code",
   "execution_count": 182,
   "metadata": {},
   "outputs": [],
   "source": [
    "recall = error_rate[error_rate['verification_value'].isin(['True positive', 'False negative'])]\n",
    "recall = recall.groupby(['model', 'verification_value'])['error_rate'].sum() / recall.groupby(['model'])['error_rate'].sum() * 100\n",
    "recall = recall.reset_index(name='recall')\n",
    "recall = recall[recall['verification_value'] == 'True positive']"
   ]
  },
  {
   "cell_type": "code",
   "execution_count": 183,
   "metadata": {},
   "outputs": [
    {
     "data": {
      "text/html": [
       "<div>\n",
       "<style scoped>\n",
       "    .dataframe tbody tr th:only-of-type {\n",
       "        vertical-align: middle;\n",
       "    }\n",
       "\n",
       "    .dataframe tbody tr th {\n",
       "        vertical-align: top;\n",
       "    }\n",
       "\n",
       "    .dataframe thead th {\n",
       "        text-align: right;\n",
       "    }\n",
       "</style>\n",
       "<table border=\"1\" class=\"dataframe\">\n",
       "  <thead>\n",
       "    <tr style=\"text-align: right;\">\n",
       "      <th></th>\n",
       "      <th>model</th>\n",
       "      <th>verification_value</th>\n",
       "      <th>recall</th>\n",
       "    </tr>\n",
       "  </thead>\n",
       "  <tbody>\n",
       "    <tr>\n",
       "      <th>1</th>\n",
       "      <td>claude-3-haiku-20240307</td>\n",
       "      <td>True positive</td>\n",
       "      <td>88.088235</td>\n",
       "    </tr>\n",
       "    <tr>\n",
       "      <th>3</th>\n",
       "      <td>claude-3-opus-20240229</td>\n",
       "      <td>True positive</td>\n",
       "      <td>89.970060</td>\n",
       "    </tr>\n",
       "    <tr>\n",
       "      <th>5</th>\n",
       "      <td>claude-3-sonnet-20240229</td>\n",
       "      <td>True positive</td>\n",
       "      <td>93.413174</td>\n",
       "    </tr>\n",
       "    <tr>\n",
       "      <th>7</th>\n",
       "      <td>gemini-1.0-pro</td>\n",
       "      <td>True positive</td>\n",
       "      <td>80.995475</td>\n",
       "    </tr>\n",
       "    <tr>\n",
       "      <th>9</th>\n",
       "      <td>gpt-3.5-turbo-1106</td>\n",
       "      <td>True positive</td>\n",
       "      <td>53.474320</td>\n",
       "    </tr>\n",
       "    <tr>\n",
       "      <th>11</th>\n",
       "      <td>gpt-4-1106-preview</td>\n",
       "      <td>True positive</td>\n",
       "      <td>90.718563</td>\n",
       "    </tr>\n",
       "  </tbody>\n",
       "</table>\n",
       "</div>"
      ],
      "text/plain": [
       "                       model verification_value     recall\n",
       "1    claude-3-haiku-20240307      True positive  88.088235\n",
       "3     claude-3-opus-20240229      True positive  89.970060\n",
       "5   claude-3-sonnet-20240229      True positive  93.413174\n",
       "7             gemini-1.0-pro      True positive  80.995475\n",
       "9         gpt-3.5-turbo-1106      True positive  53.474320\n",
       "11        gpt-4-1106-preview      True positive  90.718563"
      ]
     },
     "execution_count": 183,
     "metadata": {},
     "output_type": "execute_result"
    }
   ],
   "source": [
    "recall"
   ]
  },
  {
   "cell_type": "code",
   "execution_count": 184,
   "metadata": {},
   "outputs": [
    {
     "data": {
      "text/html": [
       "<div>\n",
       "<style scoped>\n",
       "    .dataframe tbody tr th:only-of-type {\n",
       "        vertical-align: middle;\n",
       "    }\n",
       "\n",
       "    .dataframe tbody tr th {\n",
       "        vertical-align: top;\n",
       "    }\n",
       "\n",
       "    .dataframe thead th {\n",
       "        text-align: right;\n",
       "    }\n",
       "</style>\n",
       "<table border=\"1\" class=\"dataframe\">\n",
       "  <thead>\n",
       "    <tr style=\"text-align: right;\">\n",
       "      <th></th>\n",
       "      <th>model</th>\n",
       "      <th>precision</th>\n",
       "      <th>recall</th>\n",
       "      <th>error_rate</th>\n",
       "    </tr>\n",
       "  </thead>\n",
       "  <tbody>\n",
       "    <tr>\n",
       "      <th>0</th>\n",
       "      <td>claude-3-haiku-20240307</td>\n",
       "      <td>88.217968</td>\n",
       "      <td>88.088235</td>\n",
       "      <td>6.194690</td>\n",
       "    </tr>\n",
       "    <tr>\n",
       "      <th>1</th>\n",
       "      <td>claude-3-opus-20240229</td>\n",
       "      <td>97.882736</td>\n",
       "      <td>89.970060</td>\n",
       "      <td>3.076923</td>\n",
       "    </tr>\n",
       "    <tr>\n",
       "      <th>2</th>\n",
       "      <td>claude-3-sonnet-20240229</td>\n",
       "      <td>93.975904</td>\n",
       "      <td>93.413174</td>\n",
       "      <td>3.230769</td>\n",
       "    </tr>\n",
       "    <tr>\n",
       "      <th>3</th>\n",
       "      <td>gemini-1.0-pro</td>\n",
       "      <td>98.351648</td>\n",
       "      <td>80.995475</td>\n",
       "      <td>5.194306</td>\n",
       "    </tr>\n",
       "    <tr>\n",
       "      <th>4</th>\n",
       "      <td>gpt-3.5-turbo-1106</td>\n",
       "      <td>82.325581</td>\n",
       "      <td>53.474320</td>\n",
       "      <td>14.769231</td>\n",
       "    </tr>\n",
       "    <tr>\n",
       "      <th>5</th>\n",
       "      <td>gpt-4-1106-preview</td>\n",
       "      <td>96.960000</td>\n",
       "      <td>90.718563</td>\n",
       "      <td>3.116583</td>\n",
       "    </tr>\n",
       "  </tbody>\n",
       "</table>\n",
       "</div>"
      ],
      "text/plain": [
       "                      model  precision     recall  error_rate\n",
       "0   claude-3-haiku-20240307  88.217968  88.088235    6.194690\n",
       "1    claude-3-opus-20240229  97.882736  89.970060    3.076923\n",
       "2  claude-3-sonnet-20240229  93.975904  93.413174    3.230769\n",
       "3            gemini-1.0-pro  98.351648  80.995475    5.194306\n",
       "4        gpt-3.5-turbo-1106  82.325581  53.474320   14.769231\n",
       "5        gpt-4-1106-preview  96.960000  90.718563    3.116583"
      ]
     },
     "execution_count": 184,
     "metadata": {},
     "output_type": "execute_result"
    }
   ],
   "source": [
    "# join precision and recall and error_rate\n",
    "precision_recall = pd.merge(precision, recall, on='model')\n",
    "precision_recall = pd.merge(precision_recall, false, on='model')\n",
    "\n",
    "#drop verification_value columns\n",
    "precision_recall = precision_recall.drop(columns=['verification_value_x', 'verification_value_y'])\n",
    "precision_recall"
   ]
  },
  {
   "cell_type": "code",
   "execution_count": 185,
   "metadata": {},
   "outputs": [],
   "source": [
    "precision_recall.to_csv('accuracy_precision_recall.csv', index=False)"
   ]
  },
  {
   "cell_type": "markdown",
   "metadata": {},
   "source": [
    "### 2.3 Error rate by category and model\n",
    "A more detailed look into the balance between `False negative` and `False positive` predictions for each category and model"
   ]
  },
  {
   "cell_type": "code",
   "execution_count": 186,
   "metadata": {},
   "outputs": [
    {
     "data": {
      "image/png": "[encoded data removed]"
     },
     "metadata": {},
     "output_type": "display_data"
    }
   ],
   "source": [
    "%%R -i error_rate_grouped -w 800 -h 600\n",
    "\n",
    "# Filter the data down to the False positive and False negative error rates\n",
    "error_rate_grouped = error_rate_grouped %>%\n",
    "    filter(verification_value %in% c('False positive', 'False negative'))\n",
    "\n",
    "# Make a stacked bar chart of the error rates\n",
    "ggplot(error_rate_grouped, aes(x=category, y=error_rate, fill=verification_value)) +\n",
    "    geom_bar(stat='identity') +\n",
    "    facet_wrap(~model) +\n",
    "    theme(axis.text.x = element_text(angle = 45, hjust = 1)) +\n",
    "    labs(title='Error rates by category and model', x='Category', y='Error rate (%)', fill='Error type')"
   ]
  },
  {
   "cell_type": "markdown",
   "metadata": {},
   "source": [
    "### 2.4 False positives"
   ]
  },
  {
   "cell_type": "code",
   "execution_count": 187,
   "metadata": {},
   "outputs": [],
   "source": [
    "false_positives = df_final.groupby(['model', 'category', 'verification_value', 'substantial_text'])['verification_value'].count() / df_final.groupby(['model', 'category'])['verification_value'].count() * 100\n",
    "false_positives = false_positives.reset_index(name='error_rate')\n",
    "false_positives = false_positives[false_positives['verification_value'] == 'False positive']"
   ]
  },
  {
   "cell_type": "code",
   "execution_count": 188,
   "metadata": {},
   "outputs": [
    {
     "data": {
      "image/png": "[encoded data removed]"
     },
     "metadata": {},
     "output_type": "display_data"
    }
   ],
   "source": [
    "%%R -i false_positives -w 800 -h 500\n",
    "\n",
    "# Make a stacked bar chart of the error rates\n",
    "ggplot(false_positives, aes(x=category, y=error_rate, fill=substantial_text)) +\n",
    "    geom_bar(stat='identity') +\n",
    "    facet_wrap(~model) +\n",
    "    theme(axis.text.x = element_text(angle = 45, hjust = 1)) +\n",
    "    labs(title='False positives by category and model', x='Category', y='Error rate (%)', fill='Comment has \\nsubstantial text')"
   ]
  },
  {
   "cell_type": "markdown",
   "metadata": {},
   "source": [
    "### 2.4 False negatives"
   ]
  },
  {
   "cell_type": "code",
   "execution_count": 189,
   "metadata": {},
   "outputs": [],
   "source": [
    "false_negatives = df_final.groupby(['model', 'category', 'verification_value'])['verification_value'].count() / df_final.groupby(['model', 'category'])['verification_value'].count() * 100\n",
    "false_negatives = false_negatives.reset_index(name='error_rate')\n",
    "false_negatives = false_negatives[false_negatives['verification_value'] == 'False negative']"
   ]
  },
  {
   "cell_type": "code",
   "execution_count": 190,
   "metadata": {},
   "outputs": [
    {
     "data": {
      "image/png": "[encoded data removed]"
     },
     "metadata": {},
     "output_type": "display_data"
    }
   ],
   "source": [
    "%%R -i false_negatives -w 900 -h 600\n",
    "\n",
    "# Make a stacked bar chart of the error rates\n",
    "ggplot(false_negatives, aes(x=category, y=error_rate)) +\n",
    "    geom_bar(stat='identity') +\n",
    "    facet_wrap(~model) +\n",
    "    theme(axis.text.x = element_text(angle = 45, hjust = 1)) +\n",
    "    labs(title='False positives by category and model', x='Category', y='Error rate (%)')"
   ]
  }
 ],
 "metadata": {
  "kernelspec": {
   "display_name": "Python 3",
   "language": "python",
   "name": "python3"
  },
  "language_info": {
   "codemirror_mode": {
    "name": "ipython",
    "version": 3
   },
   "file_extension": ".py",
   "mimetype": "text/x-python",
   "name": "python",
   "nbconvert_exporter": "python",
   "pygments_lexer": "ipython3",
   "version": "3.11.0"
  }
 },
 "nbformat": 4,
 "nbformat_minor": 2
}
